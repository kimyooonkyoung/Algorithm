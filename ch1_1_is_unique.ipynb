{
  "nbformat": 4,
  "nbformat_minor": 0,
  "metadata": {
    "colab": {
      "name": "ch1-1_is_unique.ipynb",
      "provenance": [],
      "collapsed_sections": [],
      "authorship_tag": "ABX9TyMCVWbmVT8Uvkyr/RIpkkEa",
      "include_colab_link": true
    },
    "kernelspec": {
      "name": "python3",
      "display_name": "Python 3"
    }
  },
  "cells": [
    {
      "cell_type": "markdown",
      "metadata": {
        "id": "view-in-github",
        "colab_type": "text"
      },
      "source": [
        "<a href=\"https://colab.research.google.com/github/kimyooonkyoung/CrackingtheCodingInterview_python/blob/main/ch1_1_is_unique.ipynb\" target=\"_parent\"><img src=\"https://colab.research.google.com/assets/colab-badge.svg\" alt=\"Open In Colab\"/></a>"
      ]
    },
    {
      "cell_type": "markdown",
      "metadata": {
        "id": "ZbjjQaaThYf3"
      },
      "source": [
        "문자열에 포함된 문자들이 전부 유일한지 검사하는 알고리즘을 작성하라.\n",
        "다른 자료형은 사용할 수 없음"
      ]
    },
    {
      "cell_type": "code",
      "metadata": {
        "id": "z3dWF5N2g_Ic"
      },
      "source": [
        "def is_unique(string):\n",
        "  check = dict()\n",
        "\n",
        "  for s in string:\n",
        "    if s not in check.keys():\n",
        "      check[s] = 1\n",
        "    else:\n",
        "      return False\n",
        "\n",
        "  return True\n",
        "\n",
        "# 시간복잡도 O(n), 공간복잡도 O(n)"
      ],
      "execution_count": 1,
      "outputs": []
    },
    {
      "cell_type": "code",
      "metadata": {
        "colab": {
          "base_uri": "https://localhost:8080/"
        },
        "id": "B5t5ArR5hv6g",
        "outputId": "1344e2d8-4ff3-4984-c449-2ab3eecb9616"
      },
      "source": [
        "print(is_unique('abcdefg')) # True\n",
        "print(is_unique('aaa')) # False\n",
        "print(is_unique('abccdasa')) # False\n",
        "print(is_unique('')) # True\n",
        "print(is_unique('abcdefg1s782dmcja8')) # False\n",
        "print(is_unique('abcdefg1s782qmpjz0')) # True"
      ],
      "execution_count": 5,
      "outputs": [
        {
          "output_type": "stream",
          "text": [
            "True\n",
            "False\n",
            "False\n",
            "True\n",
            "False\n",
            "True\n"
          ],
          "name": "stdout"
        }
      ]
    },
    {
      "cell_type": "code",
      "metadata": {
        "id": "J9JSxEk3h8Ma"
      },
      "source": [
        "def is_unique(string):\n",
        "  '''\n",
        "  string 이 '아스키문자열 중 소문자만 해당'이라는 가정\n",
        "  '''\n",
        "  \n",
        "  check = 0 # bit 연산으로 담을 값 (8 bit)\n",
        "  for s in string:\n",
        "    ordi = ord(s) - ord('a')\n",
        "\n",
        "    if check & (1 << ordi) > 0:\n",
        "      return False\n",
        "    else:\n",
        "      check |= (1 << ordi)\n",
        "\n",
        "  return True\n",
        "\n",
        "# 시간복잡도 O(n), 공간복잡도 O(1)"
      ],
      "execution_count": 11,
      "outputs": []
    },
    {
      "cell_type": "code",
      "metadata": {
        "colab": {
          "base_uri": "https://localhost:8080/"
        },
        "id": "RmdGtxIqmyXC",
        "outputId": "c4db09c9-4bfb-4f84-955c-ba4ea79aaf00"
      },
      "source": [
        "print(is_unique('abcdefg')) # True\n",
        "print(is_unique('aaa')) # False\n",
        "print(is_unique('abccdasa')) # False\n",
        "print(is_unique('')) # True\n",
        "print(is_unique('abcdefgsdmcja')) # False\n",
        "print(is_unique('abcdefgsqmpjz')) # True"
      ],
      "execution_count": 14,
      "outputs": [
        {
          "output_type": "stream",
          "text": [
            "True\n",
            "False\n",
            "False\n",
            "True\n",
            "False\n",
            "True\n"
          ],
          "name": "stdout"
        }
      ]
    },
    {
      "cell_type": "code",
      "metadata": {
        "id": "2st-TClpn4pT"
      },
      "source": [
        ""
      ],
      "execution_count": null,
      "outputs": []
    }
  ]
}